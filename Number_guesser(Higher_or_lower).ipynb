{
  "nbformat": 4,
  "nbformat_minor": 0,
  "metadata": {
    "colab": {
      "provenance": []
    },
    "kernelspec": {
      "name": "python3",
      "display_name": "Python 3"
    },
    "language_info": {
      "name": "python"
    }
  },
  "cells": [
    {
      "cell_type": "code",
      "execution_count": 2,
      "metadata": {
        "colab": {
          "base_uri": "https://localhost:8080/"
        },
        "id": "MuAopTVCCwu6",
        "outputId": "58dbfde7-d4e0-4b65-b695-7466a5e5fd38"
      },
      "outputs": [
        {
          "output_type": "stream",
          "name": "stdout",
          "text": [
            "Welcome to the Number Guesser Game!\n",
            "I'm thinking of a number between 1 and 100. You have 10 attempts.\n",
            "Enter your guess: 80\n",
            "Too high!\n",
            "Attempts remaining: 9\n",
            "Enter your guess: 40\n",
            "Too low!\n",
            "Attempts remaining: 8\n",
            "Enter your guess: 60\n",
            "Too high!\n",
            "Attempts remaining: 7\n",
            "Enter your guess: 50\n",
            "Too high!\n",
            "Attempts remaining: 6\n",
            "Enter your guess: 45\n",
            "Too high!\n",
            "Attempts remaining: 5\n",
            "Enter your guess: 42\n",
            "Too low!\n",
            "Attempts remaining: 4\n",
            "Enter your guess: 43\n",
            "Congratulations! You guessed it in 7 attempts!\n"
          ]
        }
      ],
      "source": [
        "import random\n",
        "\n",
        "def number_guesser():\n",
        "    # Generate a random number between 1 and 100\n",
        "    secret_number = random.randint(1, 100)\n",
        "    attempts = 0\n",
        "    max_attempts = 10\n",
        "\n",
        "    print(\"Welcome to the Number Guesser Game!\")\n",
        "    print(f\"I'm thinking of a number between 1 and 100. You have {max_attempts} attempts.\")\n",
        "\n",
        "    while attempts < max_attempts:\n",
        "        try:\n",
        "            # Get player's guess\n",
        "            guess = int(input(\"Enter your guess: \"))\n",
        "            attempts += 1\n",
        "\n",
        "            # Check if guess is correct\n",
        "            if guess == secret_number:\n",
        "                print(f\"Congratulations! You guessed it in {attempts} attempts!\")\n",
        "                return\n",
        "            elif guess < secret_number:\n",
        "                print(\"Too low!\")\n",
        "            else:\n",
        "                print(\"Too high!\")\n",
        "\n",
        "            # Show remaining attempts\n",
        "            print(f\"Attempts remaining: {max_attempts - attempts}\")\n",
        "\n",
        "        except ValueError:\n",
        "            print(\"Please enter a valid number!\")\n",
        "\n",
        "    print(f\"Game Over! The number was {secret_number}\")\n",
        "\n",
        "# Start the game\n",
        "if __name__ == \"__main__\":\n",
        "    number_guesser()"
      ]
    }
  ]
}